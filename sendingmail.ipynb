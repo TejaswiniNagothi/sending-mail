{
 "cells": [
  {
   "cell_type": "code",
   "execution_count": null,
   "metadata": {},
   "outputs": [],
   "source": [
    "import smtplib\n",
    "import random\n",
    "def read_data_send_mail():\n",
    "    try:\n",
    "        f=open('student_mails.txt',\"r\")\n",
    "        student_mails=f.read()\n",
    "        student_mails=student_mails.split(\",\")\n",
    "        print(student_mails)\n",
    "    except:\n",
    "        print(\"file not available\")\n",
    "\n",
    "    sender_email=\"xxxxxxxxxxxx@gmail.com\"\n",
    "\n",
    "    for i in student_mails:\n",
    "        otp_number=random.randint(00000,9999)\n",
    "        print(otp_number)\n",
    "        s = smtplib.SMTP('smtp.gmail.com', 587)\n",
    "        s.starttls()\n",
    "        s.login(sender_email, \"xxxx xxxx xxxx xxxx\") #this key differs from mail to mail\n",
    "        # open mail > manage accounts > security > turn on two step verification > app password > enter mail password > enter any name > generated app password will be displayed > copy and paste it here\n",
    "        message = f\"Hi your OTP number is {otp_number}\"\n",
    "        try:\n",
    "            s.sendmail(sender_email, i, message)\n",
    "            print(\"mail sent sucessfully\")\n",
    "            s.quit()\n",
    "        except:\n",
    "            print(\"mail not sent\")\n",
    "read_data_send_mail()\n"
   ]
  }
 ],
 "metadata": {
  "language_info": {
   "name": "python"
  }
 },
 "nbformat": 4,
 "nbformat_minor": 2
}
